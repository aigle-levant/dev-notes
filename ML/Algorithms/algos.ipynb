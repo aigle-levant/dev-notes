{
 "cells": [
  {
   "cell_type": "markdown",
   "id": "c2388960",
   "metadata": {},
   "source": [
    "## Binary search\n",
    "\n",
    "Time complexity : O(log n)"
   ]
  },
  {
   "cell_type": "code",
   "execution_count": 7,
   "id": "4b371255",
   "metadata": {},
   "outputs": [
    {
     "name": "stdout",
     "output_type": "stream",
     "text": [
      "Too high!\n",
      "Too high!\n",
      "Too high!\n",
      "The number 4 is at position: 3\n"
     ]
    }
   ],
   "source": [
    "import numpy as np\n",
    "\n",
    "def binary_search(array, num):\n",
    "    low = 0\n",
    "    high = len(array) - 1\n",
    "    while (low<=high):\n",
    "        mid = (low + high)\n",
    "        guess = array[mid]\n",
    "        if (guess<num):\n",
    "            print(\"Too low!\")\n",
    "            low = mid + 1\n",
    "        elif (guess>num):\n",
    "            print(\"Too high!\")\n",
    "            high = mid - 1\n",
    "        else:\n",
    "            return (f\"The number {num} is at position: {mid}\")\n",
    "    return None\n",
    "\n",
    "arr = [1,2,3,4,56,77,86]\n",
    "wanted_num = 4\n",
    "print(binary_search(arr, wanted_num))"
   ]
  },
  {
   "cell_type": "markdown",
   "id": "083f9c27",
   "metadata": {},
   "source": [
    "## Linear search\n",
    "Time complexity : O(n)"
   ]
  },
  {
   "cell_type": "code",
   "execution_count": 2,
   "id": "0082d2f0",
   "metadata": {},
   "outputs": [
    {
     "name": "stdout",
     "output_type": "stream",
     "text": [
      "Still searching!\n",
      "Still searching!\n",
      "Still searching!\n",
      "Still searching!\n",
      "56 is at position 4\n"
     ]
    }
   ],
   "source": [
    "import numpy as np\n",
    "\n",
    "def linear_search(array, n):\n",
    "    array_length = len(array)-1\n",
    "    for i in range(0, array_length):\n",
    "        if array[i]==n:\n",
    "            return (f\"{n} is at position {i}\")\n",
    "        else:\n",
    "            print(\"Still searching!\")\n",
    "arr = [1,2,3,4,56,77,86]\n",
    "wanted_num = 56\n",
    "print(linear_search(arr, wanted_num))"
   ]
  }
 ],
 "metadata": {
  "kernelspec": {
   "display_name": "Python 3",
   "language": "python",
   "name": "python3"
  },
  "language_info": {
   "codemirror_mode": {
    "name": "ipython",
    "version": 3
   },
   "file_extension": ".py",
   "mimetype": "text/x-python",
   "name": "python",
   "nbconvert_exporter": "python",
   "pygments_lexer": "ipython3",
   "version": "3.11.4"
  }
 },
 "nbformat": 4,
 "nbformat_minor": 5
}
