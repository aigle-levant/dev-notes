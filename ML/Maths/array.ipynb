{
 "cells": [
  {
   "cell_type": "markdown",
   "id": "af09e65c",
   "metadata": {},
   "source": [
    "`ndarray` -> Array class\n",
    "`a.shape` -> Returns (columns, rows)\n",
    "`a.ndim` -> Returns dimension\n",
    "`a.size` -> Returns no. of elements\n",
    "`a.dtype` -> Returns type of elements"
   ]
  },
  {
   "cell_type": "code",
   "execution_count": 1,
   "id": "bf13ad53",
   "metadata": {},
   "outputs": [
    {
     "name": "stdout",
     "output_type": "stream",
     "text": [
      "[[1 2 3]\n",
      " [4 5 6]]\n",
      "<class 'numpy.ndarray'>\n",
      "(2, 3)\n",
      "int64\n",
      "6\n",
      "2\n"
     ]
    }
   ],
   "source": [
    "import numpy as np\n",
    "\n",
    "a = np.array([[1,2,3],[4,5,6]])\n",
    "print(a)\n",
    "print(type(a))\n",
    "\n",
    "print(a.shape)\n",
    "print(a.dtype)\n",
    "print(a.size)\n",
    "print(a.ndim)"
   ]
  },
  {
   "cell_type": "markdown",
   "id": "59187cfe",
   "metadata": {},
   "source": [
    "`np.zeros()` -> Array with only 0s\n",
    "`np.ones()` -> Array with only 1s\n",
    "`np.empty()` -> Array with random content.\n",
    "`np.arange(first_num, last_num, step)` -> Array with a range of elements\n",
    "`np.linspace(first_num, last_num, step)` -> Array with values spaced linearly\n",
    "\n",
    "> Note\n",
    "> Default `dtype` is `np.float64`. Use `dtype` keyword to specify"
   ]
  },
  {
   "cell_type": "code",
   "execution_count": 2,
   "id": "1404c126",
   "metadata": {},
   "outputs": [
    {
     "name": "stdout",
     "output_type": "stream",
     "text": [
      "Ones\n",
      "[[1. 1. 1.]\n",
      " [1. 1. 1.]]\n",
      "[1. 1. 1. 1. 1.]\n",
      "[[1. 1. 1. 1. 1. 1. 1.]\n",
      " [1. 1. 1. 1. 1. 1. 1.]\n",
      " [1. 1. 1. 1. 1. 1. 1.]\n",
      " [1. 1. 1. 1. 1. 1. 1.]\n",
      " [1. 1. 1. 1. 1. 1. 1.]\n",
      " [1. 1. 1. 1. 1. 1. 1.]]\n",
      "Zeroes\n",
      "[0. 0. 0. 0. 0. 0. 0. 0. 0. 0.]\n",
      "[0. 0. 0.]\n",
      "Range\n",
      "[0 1 2 3 4]\n",
      "[1 2 3 4]\n",
      "[1 3 5]\n",
      "[ 0.  5. 10. 15. 20.]\n"
     ]
    }
   ],
   "source": [
    "print(\"Ones\")\n",
    "print(np.ones([2,3]))\n",
    "print(np.ones(5))\n",
    "print(np.ones([6,7]))\n",
    "\n",
    "print(\"Zeroes\")\n",
    "print(np.zeros(10))\n",
    "print(np.empty(3))\n",
    "\n",
    "print(\"Range\")\n",
    "print(np.arange(5))\n",
    "print(np.arange(1,5))\n",
    "print(np.arange(1,6,2))\n",
    "print(np.linspace(0, 20, num=5))"
   ]
  }
 ],
 "metadata": {
  "kernelspec": {
   "display_name": "Python 3",
   "language": "python",
   "name": "python3"
  },
  "language_info": {
   "codemirror_mode": {
    "name": "ipython",
    "version": 3
   },
   "file_extension": ".py",
   "mimetype": "text/x-python",
   "name": "python",
   "nbconvert_exporter": "python",
   "pygments_lexer": "ipython3",
   "version": "3.11.4"
  }
 },
 "nbformat": 4,
 "nbformat_minor": 5
}
