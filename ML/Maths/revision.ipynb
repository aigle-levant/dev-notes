{
 "cells": [
  {
   "cell_type": "markdown",
   "id": "6d36a516",
   "metadata": {},
   "source": [
    "1 - Addition of 2 vectors"
   ]
  },
  {
   "cell_type": "code",
   "execution_count": 9,
   "id": "d6a3f6eb",
   "metadata": {},
   "outputs": [
    {
     "name": "stdout",
     "output_type": "stream",
     "text": [
      "[[ 2 -1]\n",
      " [ 4  0]]\n",
      "[[1 3]\n",
      " [2 4]]\n",
      "[array([3, 2]), array([6, 4])]\n"
     ]
    }
   ],
   "source": [
    "import numpy as np\n",
    "\n",
    "def add_vectors(v,w):\n",
    "    return [v[i] + w[i] for i in range(len(v))]\n",
    "\n",
    "a = np.array([[2,-1], [4,0]])\n",
    "print(a)\n",
    "b = np.array([[1,3], [2,4]])\n",
    "print(b)\n",
    "print(add_vectors(a,b))"
   ]
  },
  {
   "cell_type": "markdown",
   "id": "6c12e9fd",
   "metadata": {},
   "source": [
    "2 - Subtraction of 2 vectors"
   ]
  },
  {
   "cell_type": "code",
   "execution_count": 18,
   "id": "80c44fd8",
   "metadata": {},
   "outputs": [
    {
     "name": "stdout",
     "output_type": "stream",
     "text": [
      "[[ 2 -1]\n",
      " [ 4  0]]\n",
      "[[1 3]\n",
      " [2 4]]\n",
      "[array([ 1, -4]), array([ 2, -4])]\n"
     ]
    }
   ],
   "source": [
    "import numpy as np\n",
    "\n",
    "def subtract_vectors(v,w):\n",
    "    return [v[i] - w[i] for i in range(len(v))]\n",
    "\n",
    "a = np.array([[2,-1], [4,0]])\n",
    "print(a)\n",
    "b = np.array([[1,3], [2,4]])\n",
    "print(b)\n",
    "print(subtract_vectors(a,b))"
   ]
  },
  {
   "cell_type": "markdown",
   "id": "c58a9189",
   "metadata": {},
   "source": []
  }
 ],
 "metadata": {
  "kernelspec": {
   "display_name": "Python 3",
   "language": "python",
   "name": "python3"
  },
  "language_info": {
   "codemirror_mode": {
    "name": "ipython",
    "version": 3
   },
   "file_extension": ".py",
   "mimetype": "text/x-python",
   "name": "python",
   "nbconvert_exporter": "python",
   "pygments_lexer": "ipython3",
   "version": "3.11.4"
  }
 },
 "nbformat": 4,
 "nbformat_minor": 5
}
