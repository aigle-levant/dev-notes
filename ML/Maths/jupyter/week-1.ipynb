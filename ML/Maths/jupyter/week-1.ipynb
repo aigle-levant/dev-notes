{
 "cells": [
  {
   "cell_type": "markdown",
   "id": "41dec76c",
   "metadata": {},
   "source": [
    "## Vectors\n",
    "\n",
    "**What are they?**\n",
    "- Physics : Arrows pointing in space that are defined by : \n",
    "  - Length\n",
    "  - Direction\n",
    "- CS : Ordered list of numbers.\n",
    "\t- They belong to `n` dimension, where `n` is the length of the list.\n",
    "- Maths : Anything where you can add and multiply.\n",
    "\t- Eg : `[1,2,3]`, `f(x) = 2x + 3`, etc.\n",
    "\n",
    "**Vector starts from**: Origin\n",
    "\n",
    "**Usage**: Conceptualizing lists in a visual manner to produce graphs, etc.\n",
    "\n",
    "## Basic operations\n",
    "\n",
    "- Addition of 2 vectors\n",
    "- Scalar multiplication : Multiply a vector with a scalar [a number].\n"
   ]
  },
  {
   "cell_type": "code",
   "execution_count": 48,
   "id": "7ea179d6",
   "metadata": {},
   "outputs": [
    {
     "name": "stdout",
     "output_type": "stream",
     "text": [
      "[1, 5]\n"
     ]
    }
   ],
   "source": [
    "import numpy as np\n",
    "import matplotlib as plt\n",
    "\n",
    "def add_vectors(a,b):\n",
    "    return [a[i] + b[i] for i in range(len(a))]\n",
    "\n",
    "v = [-2,1]\n",
    "w = [3,4]\n",
    "\n",
    "print(add_vectors(v,w))"
   ]
  },
  {
   "cell_type": "markdown",
   "id": "5d5f6258",
   "metadata": {},
   "source": [
    "Vector coordinates -> Instructions on how to get from tail to tip\n",
    "\n",
    "Modifying a vector -> Scaling\n",
    "\n",
    "> Every vector has a only one pair of numbers; every pair of numbers has only one vector."
   ]
  }
 ],
 "metadata": {
  "kernelspec": {
   "display_name": "Python 3",
   "language": "python",
   "name": "python3"
  },
  "language_info": {
   "codemirror_mode": {
    "name": "ipython",
    "version": 3
   },
   "file_extension": ".py",
   "mimetype": "text/x-python",
   "name": "python",
   "nbconvert_exporter": "python",
   "pygments_lexer": "ipython3",
   "version": "3.11.4"
  }
 },
 "nbformat": 4,
 "nbformat_minor": 5
}
